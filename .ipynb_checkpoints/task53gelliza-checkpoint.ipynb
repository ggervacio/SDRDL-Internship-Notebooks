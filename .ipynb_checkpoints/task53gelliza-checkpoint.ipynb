{
 "metadata": {
  "name": "",
  "signature": "sha256:21416b95bbd64b541556bd998ef2166379b6426189decea5244f088ecfbf2802"
 },
 "nbformat": 3,
 "nbformat_minor": 0,
 "worksheets": [
  {
   "cells": [
    {
     "cell_type": "markdown",
     "metadata": {},
     "source": [
      "The objective is to create a profile for all calls related to health needs.\n",
      "\n",
      "Create visualizations for:\n",
      "\n",
      "1. Call volume distribution by week, month, year: When are they calling?<br>\n",
      "2. Needs Category Distribution: What are they calling for?<br>\n",
      "3. Gender distribution: A piechart<br>\n",
      "4. Age group distribution: A bar chart<br>\n",
      "5. Household size: A bar chart<br>\n",
      "6. Gross Annual Income: A bar chart<br>\n",
      "7. Avg Annual Gross Income by Household Size: A bar chart<br>\n",
      "8. Referring agency frequency linked with whether need was met or not.<br>\n",
      "9. Free exploration: race/ethnicity.<br>"
     ]
    },
    {
     "cell_type": "code",
     "collapsed": false,
     "input": [],
     "language": "python",
     "metadata": {},
     "outputs": []
    },
    {
     "cell_type": "code",
     "collapsed": false,
     "input": [],
     "language": "python",
     "metadata": {},
     "outputs": []
    }
   ],
   "metadata": {}
  }
 ]
}